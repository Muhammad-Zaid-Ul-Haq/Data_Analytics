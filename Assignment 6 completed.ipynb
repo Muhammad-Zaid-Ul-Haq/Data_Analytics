{
  "metadata": {
    "kernelspec": {
      "name": "python",
      "display_name": "Python (Pyodide)",
      "language": "python"
    },
    "language_info": {
      "codemirror_mode": {
        "name": "python",
        "version": 3
      },
      "file_extension": ".py",
      "mimetype": "text/x-python",
      "name": "python",
      "nbconvert_exporter": "python",
      "pygments_lexer": "ipython3",
      "version": "3.8"
    }
  },
  "nbformat_minor": 5,
  "nbformat": 4,
  "cells": [
    {
      "id": "7e777340-fcd5-4c13-9ae0-e80ade2b8a3a",
      "cell_type": "markdown",
      "source": "Q1. Write a Python program that prints the multiplication table for a given number (between 1 and 10) using a for loop.\n\nHint:\n\nAsk the user for a number between 1 and 10 .\nUse a for loop to iterate through the numbers from 1 to 10.\nFor each iteration, calculate the product of the given number and the current number in the loop.\nPrint the result in a readable format (e.g., 5 x 1 = 5).\nEnsure the program works correctly for any number between 1 and 10.\nOutput Hint:\n\n- 4 x 1 = 4\n- 4 x 2 = 8\n- 4 x 3 = 12\n- 4 x 4 = 16\n- 4 x 5 = 20\n- 4 x 6 = 24\n- 4 x 7 = 28\n- 4 x 8 = 32\n- 4 x 9 = 36\n- 4 x 10 = 40",
      "metadata": {}
    },
    {
      "id": "bee1be68-d3f1-4aee-bda4-85a021afed55",
      "cell_type": "code",
      "source": "number = input(\"Enter any number between 1 and 10\")\n\nif number.isnumeric():\n    number = int(number)\n    if number > 0 and number < 11:\n        for table in range(1, 11):\n            print(f\"{number} x {table} = {number*table}\")\n    else:\n        print(\"Number is allowed between 1 to 10 only\")\n\nelse:\n    print(\"Only number is allowed from 1 to 10\")",
      "metadata": {
        "trusted": true
      },
      "outputs": [
        {
          "output_type": "stream",
          "name": "stdin",
          "text": "Enter your Number 50\n"
        },
        {
          "name": "stdout",
          "output_type": "stream",
          "text": "number is allowed only 1 to 10\n"
        }
      ],
      "execution_count": 11
    },
    {
      "id": "93c6d6ba-b4ef-4284-a0e9-9db6eaf2a2cf",
      "cell_type": "markdown",
      "source": "Q2. Stop sending emails after 3 users (Using for loop and break)\n\nusers = [\"Ali\", \"Sara\", \"John\", \"Zara\", \"Mike\"]\n\nOutput:\n\nEmail sent to Ali\n\nEmail sent to Sara\n\nEmail sent to John\n\nLimit reached. Stop sending emails.",
      "metadata": {}
    },
    {
      "id": "e3a3e102-8dde-4fe7-9cf7-497b04efac28",
      "cell_type": "code",
      "source": "users = [\"Ali\", \"Sara\", \"John\", \"Zara\", \"Mike\"]\n\nfor user in users:\n    \n    if user == users[3]:\n        print(\"Limit reached. Stop sending emails.\")\n        break\n    else:\n        print(f\"Email sent to {user}\")\n    ",
      "metadata": {
        "trusted": true
      },
      "outputs": [
        {
          "name": "stdout",
          "output_type": "stream",
          "text": "Email sent to Ali\nEmail sent to Sara\nEmail sent to John\nLimit reached. Stop sending emails.\n"
        }
      ],
      "execution_count": 19
    },
    {
      "id": "fa38e056-f606-41d9-8748-2209cb4eaad7",
      "cell_type": "markdown",
      "source": "Q3. Stop monitoring temperature if critical temperature reached (Using for loop and break)\n\ntemps = [22, 25, 30, 45, 28]\ncritical = 40\n\nOuput:\n\nTemperature: 22\n\nTemperature: 25\n\nTemperature: 30\n\nCritical temperature reached! Stop monitoring.",
      "metadata": {}
    },
    {
      "id": "69ff2366-bce9-4a01-90e6-94cd2b29e0c4",
      "cell_type": "code",
      "source": "temps = [22, 25, 30, 45, 28]\ncritical = 40\n\nfor temp in temps:\n    if temp > critical:\n        print(\"Critical temperature reached! Stop monitoring.\")\n        break\n    else:\n        print(f\"Temperature: {temp}\")",
      "metadata": {
        "trusted": true
      },
      "outputs": [
        {
          "name": "stdout",
          "output_type": "stream",
          "text": "Temperature: 22\nTemperature: 25\nTemperature: 30\nCritical temperature reached! Stop monitoring.\n"
        }
      ],
      "execution_count": 21
    },
    {
      "id": "7f5bbc99-28e7-4866-b306-58221f72076c",
      "cell_type": "markdown",
      "source": "Q4. Calculate total price of items in a shopping cart (Using For loop)\n\ncart = [100, 250, 50, 300]\n\nOutput:\n\nTotal Price: 700",
      "metadata": {}
    },
    {
      "id": "7ffc728f-ea35-4e8d-b5c9-3b532d7fc12e",
      "cell_type": "code",
      "source": "cart = [100, 250, 50, 300]\ntotal = 0\nfor items in cart:\n    total = total + items\nprint(f\"Total Price: {total}\")",
      "metadata": {
        "trusted": true
      },
      "outputs": [
        {
          "name": "stdout",
          "output_type": "stream",
          "text": "Total Price: 700\n"
        }
      ],
      "execution_count": 34
    },
    {
      "id": "d01d8825-6b0a-44f5-962f-f805700a8e08",
      "cell_type": "markdown",
      "source": "Q5. Skip customers with unpaid bills (Using For loop and continue)\n\ncustomers = [\n    {\"name\": \"Ali\", \"paid\": True},\n    \n    {\"name\": \"Sara\", \"paid\": False},\n    \n    {\"name\": \"John\", \"paid\": True}\n]\n\n\nOutput:\n\nAccess granted to: Ali\n\nAccess granted to: John\n",
      "metadata": {}
    },
    {
      "id": "0ecf1634-3624-4e83-a84b-eea571573b55",
      "cell_type": "code",
      "source": "customers = [ {\"name\": \"Ali\", \"paid\": True},\n{\"name\": \"Sara\", \"paid\": False}, {\"name\": \"John\", \"paid\": True} ]\n\nfor customer in customers:\n    if customer[\"paid\"] == False:\n        continue\n    else:\n        print(f\"Access granted to {customer[\"name\"]}\")",
      "metadata": {
        "trusted": true
      },
      "outputs": [
        {
          "name": "stdout",
          "output_type": "stream",
          "text": "Access granted to Ali\nAccess granted to John\n"
        }
      ],
      "execution_count": 36
    },
    {
      "id": "f6cfe812-c319-40e5-ac17-cef6e72488dd",
      "cell_type": "markdown",
      "source": "Q6. Send personalized emails to a list of users (Using for loop)\n\nusers = [\"Ali\", \"Sara\", \"John\"]\n\nOutput:\n\n- Hello Ali, your subscription is active!\n- Hello Sara, your subscription is active!\n- Hello John, your subscription is active!\n",
      "metadata": {}
    },
    {
      "id": "44e2014c-29a6-4ff3-a1f0-ef27b219d9df",
      "cell_type": "code",
      "source": "users = [\"Ali\", \"Sara\", \"John\"]\n\nfor user in users:\n    print(f\"Hello {user}, your subscription is active!\")",
      "metadata": {
        "trusted": true
      },
      "outputs": [
        {
          "name": "stdout",
          "output_type": "stream",
          "text": "Hello Ali, your subscription is active!\nHello Sara, your subscription is active!\nHello John, your subscription is active!\n"
        }
      ],
      "execution_count": 39
    },
    {
      "id": "8ac2616e-f0fb-433f-a1c5-0adf73e50429",
      "cell_type": "markdown",
      "source": "Q7. Extract domain names from email list (Using for loop)\n\nemails = [\"ali@gmail.com\", \"sara@yahoo.com\", \"john@hotmail.com\"]\n\nOutput:\n\ndomains: ['gmail.com', 'yahoo.com', 'hotmail.com']\n",
      "metadata": {}
    },
    {
      "id": "35a63110-a42f-46a8-8103-fc43806fe8de",
      "cell_type": "code",
      "source": "emails = [\"ali@gmail.com\", \"sara@yahoo.com\", \"john@hotmail.com\"]\n\ndomains = [email.split('@')[1] for email in emails]\nprint(domains)",
      "metadata": {
        "trusted": true
      },
      "outputs": [
        {
          "name": "stdout",
          "output_type": "stream",
          "text": "['gmail.com', 'yahoo.com', 'hotmail.com']\n"
        }
      ],
      "execution_count": 41
    },
    {
      "id": "bc118672-58b5-44e3-8895-0685921efdda",
      "cell_type": "markdown",
      "source": "Q8. Print only overdue tasks (Using for loop)\n\ntasks = [\n    {\"task\": \"Pay bills\", \"status\": \"done\"},\n    \n    {\"task\": \"Submit report\", \"status\": \"pending\"},\n    \n    {\"task\": \"Clean house\", \"status\": \"pending\"}\n]\n\n\nOuput:\n\nOverdue: Submit report\n\nOverdue: Clean house",
      "metadata": {}
    },
    {
      "id": "3e7c8c03-5beb-46c4-a43b-570c4cf670a1",
      "cell_type": "code",
      "source": "tasks = [ {\"task\": \"Pay bills\", \"status\": \"done\"}, {\"task\": \"Submit report\", \"status\": \"pending\"},\n{\"task\": \"Clean house\", \"status\": \"pending\"} ]\n\nfor task in tasks:\n    if task[\"status\"] == \"done\":\n        continue\n    else:\n        print(f\"Overdue: {task[\"task\"]}\")\n",
      "metadata": {
        "trusted": true
      },
      "outputs": [
        {
          "name": "stdout",
          "output_type": "stream",
          "text": "Overdue: Submit report\nOverdue: Clean house\n"
        }
      ],
      "execution_count": 44
    },
    {
      "id": "c3d3986b-d13f-4afd-829d-b7b1a6f8a526",
      "cell_type": "markdown",
      "source": "Q9. Extract names of employees with salary above 50,000\n\nemployees = [\n    {\"name\": \"Ali\", \"salary\": 60000},\n    \n    {\"name\": \"Sara\", \"salary\": 45000},\n    \n    {\"name\": \"John\", \"salary\": 70000}\n]\n\n\nOutput:\n\nAli earns above 50,000\n\nJohn earns above 50,000",
      "metadata": {}
    },
    {
      "id": "cdb51544-1efc-4d11-898b-48e03a4ee5a2",
      "cell_type": "code",
      "source": "employees = [ {\"name\": \"Ali\", \"salary\": 60000}, {\"name\": \"Sara\", \"salary\": 45000},\n{\"name\": \"John\", \"salary\": 70000} ]\n\nfor employee in employees:\n    if employee[\"salary\"] > 50000:\n        print(f\"{employee[\"name\"]} earns above 50,000\")\n",
      "metadata": {
        "trusted": true
      },
      "outputs": [
        {
          "name": "stdout",
          "output_type": "stream",
          "text": "Ali earns above 50,000\nJohn earns above 50,000\n"
        }
      ],
      "execution_count": 46
    },
    {
      "id": "f1db4dfb-ea09-4b1b-9383-28d7a5253f06",
      "cell_type": "markdown",
      "source": "Q10. Skip weekends while printing workdays (Using for loop and continue)\n\ndays = [\"Monday\", \"Tuesday\", \"Wednesday\", \"Thursday\", \"Friday\", \"Saturday\", \"Sunday\"]\n\nOutput:\n\nWorkday: Monday\n\nWorkday: Tuesday\n\nWorkday: Wednesday\n\nWorkday: Thursday\n\nWorkday: Friday\n",
      "metadata": {}
    },
    {
      "id": "bfc85f02-dc41-402b-bd92-e8dce9133d02",
      "cell_type": "code",
      "source": "days = [\"Monday\", \"Tuesday\", \"Wednesday\", \"Thursday\", \"Friday\", \"Saturday\", \"Sunday\"]\n\nfor day in days:\n    if day == \"Saturday\" or day == \"sunday\":\n        continue\n    else:    \n        print(f\"Workday: {day}\")",
      "metadata": {
        "trusted": true
      },
      "outputs": [
        {
          "name": "stdout",
          "output_type": "stream",
          "text": "Workday: Monday\nWorkday: Tuesday\nWorkday: Wednesday\nWorkday: Thursday\nWorkday: Friday\nWorkday: Sunday\n"
        }
      ],
      "execution_count": 50
    },
    {
      "id": "3909f284-36f9-401d-95b9-83d2a1b65f71",
      "cell_type": "code",
      "source": "",
      "metadata": {},
      "outputs": [],
      "execution_count": null
    }
  ]
}