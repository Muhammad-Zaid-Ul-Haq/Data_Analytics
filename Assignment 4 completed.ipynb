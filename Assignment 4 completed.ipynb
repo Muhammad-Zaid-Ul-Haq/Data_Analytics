{
  "metadata": {
    "kernelspec": {
      "name": "python",
      "display_name": "Python (Pyodide)",
      "language": "python"
    },
    "language_info": {
      "codemirror_mode": {
        "name": "python",
        "version": 3
      },
      "file_extension": ".py",
      "mimetype": "text/x-python",
      "name": "python",
      "nbconvert_exporter": "python",
      "pygments_lexer": "ipython3",
      "version": "3.8"
    }
  },
  "nbformat_minor": 5,
  "nbformat": 4,
  "cells": [
    {
      "id": "f50c28f8-19de-40ce-b6fe-360f1542676f",
      "cell_type": "markdown",
      "source": "1-\n\ntext = 'hello python world'\n\nReplace spaces with underscores in the string (e.g., \"hello python world\" → \"hello_python_world\").\n\nSplit the modified string (e.g., \"hello_python_world\" → ['hello', 'python', 'world']).\n\nPrint all two results\n\nHint: Use string methods",
      "metadata": {}
    },
    {
      "id": "20c5bb38-1e3d-4e03-b507-06895973fc75",
      "cell_type": "code",
      "source": "text = 'hello python world'\n\ntexta = text.replace(' ', '_')\ntextb = text.split()\nprint(f'1, Replace space with underscore = {texta} \\n2, Split in list = {textb} ')",
      "metadata": {
        "trusted": true
      },
      "outputs": [
        {
          "name": "stdout",
          "output_type": "stream",
          "text": "1, Replace space with underscore = hello_python_world \n2, Split in list = ['hello', 'python', 'world'] \n"
        }
      ],
      "execution_count": 42
    },
    {
      "id": "6762b127-13c5-4109-99ec-497bb00e7a0c",
      "cell_type": "code",
      "source": "dir(str)",
      "metadata": {
        "trusted": true
      },
      "outputs": [
        {
          "execution_count": 43,
          "output_type": "execute_result",
          "data": {
            "text/plain": "['__add__',\n '__class__',\n '__contains__',\n '__delattr__',\n '__dir__',\n '__doc__',\n '__eq__',\n '__format__',\n '__ge__',\n '__getattribute__',\n '__getitem__',\n '__getnewargs__',\n '__getstate__',\n '__gt__',\n '__hash__',\n '__init__',\n '__init_subclass__',\n '__iter__',\n '__le__',\n '__len__',\n '__lt__',\n '__mod__',\n '__mul__',\n '__ne__',\n '__new__',\n '__reduce__',\n '__reduce_ex__',\n '__repr__',\n '__rmod__',\n '__rmul__',\n '__setattr__',\n '__sizeof__',\n '__str__',\n '__subclasshook__',\n 'capitalize',\n 'casefold',\n 'center',\n 'count',\n 'encode',\n 'endswith',\n 'expandtabs',\n 'find',\n 'format',\n 'format_map',\n 'index',\n 'isalnum',\n 'isalpha',\n 'isascii',\n 'isdecimal',\n 'isdigit',\n 'isidentifier',\n 'islower',\n 'isnumeric',\n 'isprintable',\n 'isspace',\n 'istitle',\n 'isupper',\n 'join',\n 'ljust',\n 'lower',\n 'lstrip',\n 'maketrans',\n 'partition',\n 'removeprefix',\n 'removesuffix',\n 'replace',\n 'rfind',\n 'rindex',\n 'rjust',\n 'rpartition',\n 'rsplit',\n 'rstrip',\n 'split',\n 'splitlines',\n 'startswith',\n 'strip',\n 'swapcase',\n 'title',\n 'translate',\n 'upper',\n 'zfill']"
          },
          "metadata": {}
        }
      ],
      "execution_count": 43
    },
    {
      "id": "f36c5e03-9efc-40f9-833c-23864268173e",
      "cell_type": "markdown",
      "source": "2- You have a product code that follows the format \"SKU-12345-XYZ\".\n\nFind the first position of the dash (-).\n\nCount the number of dashes (-) in the product code.\n\nRemove the \"SKU-\" prefix and \"-XYZ\" suffix from the product code, Extract the numeric part 12345\n\nproduct_code = \"SKU-12345-XYZ\"\n\nHint: Use String Methods",
      "metadata": {}
    },
    {
      "id": "258c788c-2a17-473b-ada3-5fdb4214cdc5",
      "cell_type": "code",
      "source": "product_code = \"SKU-12345-XYZ\"\n\nprint(f'1, Position of a first dash = {product_code.index('-')} \\n2, Number of Dashes = {product_code.count('-')} \\n3, Numeric part is = {product_code.split('-')[1]}')\n",
      "metadata": {
        "trusted": true
      },
      "outputs": [
        {
          "name": "stdout",
          "output_type": "stream",
          "text": "1, Position of a first dash = 3 \n2, Number of Dashes = 2 \n3, Numeric part is = 12345\n"
        }
      ],
      "execution_count": 26
    },
    {
      "id": "c8c58ab3-a2b9-4899-8380-4dc21eb1d4c5",
      "cell_type": "code",
      "source": "",
      "metadata": {
        "trusted": true
      },
      "outputs": [],
      "execution_count": null
    },
    {
      "id": "0d504f74-c0d6-4890-9580-7890bc1dcb43",
      "cell_type": "markdown",
      "source": "3- Convert a string to Title Case.\n\ntext_1 = \"hello world\"\n",
      "metadata": {}
    },
    {
      "id": "e35bf7ca-79f9-4f29-b09c-b29980ed0eb9",
      "cell_type": "code",
      "source": "text_1 = \"hello world\"\n\nprint(f'Title Case = {text_1.title()}')",
      "metadata": {
        "trusted": true
      },
      "outputs": [
        {
          "name": "stdout",
          "output_type": "stream",
          "text": "Title Case = Hello World\n"
        }
      ],
      "execution_count": 31
    },
    {
      "id": "69a00670-3bd2-4380-bfd6-46f87255ef19",
      "cell_type": "markdown",
      "source": "4- Capitalize the first letter of a string.\n\ntext_2 = \"python programming\"",
      "metadata": {}
    },
    {
      "id": "0e9bfab4-c6b4-472b-865a-82e7fa8ac9d0",
      "cell_type": "code",
      "source": "text_2 = \"python programming\"\n\nprint(f'First letter is capitalize = {text_2.capitalize()}')",
      "metadata": {
        "trusted": true
      },
      "outputs": [
        {
          "name": "stdout",
          "output_type": "stream",
          "text": "First letter is capitalize = Python programming\n"
        }
      ],
      "execution_count": 38
    },
    {
      "id": "5bdf7492-d2fd-4423-8310-c6c910c0a87f",
      "cell_type": "code",
      "source": "",
      "metadata": {
        "trusted": true
      },
      "outputs": [],
      "execution_count": null
    },
    {
      "id": "24a9ded0-9b42-4107-bdd3-da5af3dc1414",
      "cell_type": "markdown",
      "source": "5- Given the string below, write Python code to:\n\nConvert the string so that each word starts with a capital letter\n\nThen swap the case of every letter in the resulting string\n\nPrint the final result.\n\ntext1 = \"learning PYTHON is AWESOME\"",
      "metadata": {}
    },
    {
      "id": "6fbb116d-9af7-431b-a9df-2c320195c4c0",
      "cell_type": "code",
      "source": "text1 = \"learning PYTHON is AWESOME\"\n\ntext1 = text1.title()\ntext2 = text1.title().swapcase()\nprint(f'1, each word starts with a capital letter = {text1} \\n2, Swap the case of every letter = {text2}')",
      "metadata": {
        "trusted": true
      },
      "outputs": [
        {
          "name": "stdout",
          "output_type": "stream",
          "text": "1, each word starts with a capital letter = Learning Python Is Awesome \n2, Swap the case of every letter = lEARNING pYTHON iS aWESOME\n"
        }
      ],
      "execution_count": 48
    },
    {
      "id": "99163be0-8b38-4d39-a4d6-8099e6a6eee7",
      "cell_type": "markdown",
      "source": "6- \n\nWrite Python code to check and print whether the string satisfies the following:\n\nIs alphanumeric?\n\nIs alphabetic only?\n\ntext2 = \"HelloWorld123\"\n",
      "metadata": {}
    },
    {
      "id": "f68686b9-5e71-4be9-b335-9917d4976d15",
      "cell_type": "code",
      "source": "text2 = \"HelloWorld123\"\n\nprint(f'1, for alphanumeric = {text2.isalnum()} \\n2, for alphabetic = {text2.isalpha()}')",
      "metadata": {
        "trusted": true
      },
      "outputs": [
        {
          "name": "stdout",
          "output_type": "stream",
          "text": "1, for alphanumeric = True \n2, for alphabetic = False\n"
        }
      ],
      "execution_count": 54
    },
    {
      "id": "86df8b45-2f46-4da8-b56b-e8967309738d",
      "cell_type": "markdown",
      "source": "7- \n\nWrite Python code to check and print whether the string satisfies the following:\n\nIs the string made up of digits only?\n\nIs the string all lowercase?\n\ntext3 = \"helloworld\"",
      "metadata": {}
    },
    {
      "id": "bc00abb4-7d95-4283-8ede-bf49894f9de8",
      "cell_type": "code",
      "source": "text3 = \"helloworld\"\n\nprint(f'1, for digits = {text3.isdigit()} \\n2, for lowercase = {text3.islower()}')",
      "metadata": {
        "trusted": true
      },
      "outputs": [
        {
          "name": "stdout",
          "output_type": "stream",
          "text": "1, for digits only = False \n2, for all lowercase = True\n"
        }
      ],
      "execution_count": 55
    },
    {
      "id": "d5abaffa-dab0-4c62-94a6-7639e02d4753",
      "cell_type": "markdown",
      "source": "8-\n\nWrite Python code to check and print whether the string satisfies the following:\n\nIs the string all uppercase?\n\nIs the string titlecased?\n\ntext4 = 'Hi We Are Learning Python'",
      "metadata": {}
    },
    {
      "id": "ff4c73bc-aeb8-4d32-912b-114b1a5a2271",
      "cell_type": "code",
      "source": "text4 = 'Hi We Are Learning Python'\n\nprint(f'1, for uppercase = {text4.isupper()} \\n2, for title case = {text4.istitle()}')",
      "metadata": {
        "trusted": true
      },
      "outputs": [
        {
          "name": "stdout",
          "output_type": "stream",
          "text": "1, for uppercase = False \n2, for title case = True\n"
        }
      ],
      "execution_count": 56
    },
    {
      "id": "005214b5-3e90-488d-9f1a-19fa65b5c830",
      "cell_type": "markdown",
      "source": "9- \n\nWrite Python code to check and print whether the string:\n\nStarts with \"data\"\n\nEnds with \".csv\"\n\ntext5 = \"data_report_2023.csv\"\n",
      "metadata": {}
    },
    {
      "id": "0e4f44ed-a9d6-4ae6-8897-76a6a14a9fc5",
      "cell_type": "code",
      "source": "text5 = \"data_report_2023.csv\"\n\nprint(f'1, for starts with = {text5.startswith(\"data\")} \\n2, for ends with = {text5.endswith(\".csv\")}')",
      "metadata": {
        "trusted": true
      },
      "outputs": [
        {
          "name": "stdout",
          "output_type": "stream",
          "text": "1, for starts with = True \n2, for ends with = True\n"
        }
      ],
      "execution_count": 58
    },
    {
      "id": "80bc03e1-c9aa-4c73-ab02-8065a93f0ce5",
      "cell_type": "markdown",
      "source": "10-\n\nWrite Python code to:\n\nCount how many times \"banana\" appears in the string.\n\nfruit = \"banana bandana banana\"\n",
      "metadata": {}
    },
    {
      "id": "13193e78-920a-45db-9c98-c89e8c270ecd",
      "cell_type": "code",
      "source": "fruit = \"banana bandana banana\"\n\nprint(f'count = {fruit.count(\"banana\")}')",
      "metadata": {
        "trusted": true
      },
      "outputs": [
        {
          "name": "stdout",
          "output_type": "stream",
          "text": "count = 2\n"
        }
      ],
      "execution_count": 61
    },
    {
      "id": "901bd21d-0ea9-4477-b686-bcc4a15d752a",
      "cell_type": "code",
      "source": "",
      "metadata": {
        "trusted": true
      },
      "outputs": [],
      "execution_count": null
    }
  ]
}