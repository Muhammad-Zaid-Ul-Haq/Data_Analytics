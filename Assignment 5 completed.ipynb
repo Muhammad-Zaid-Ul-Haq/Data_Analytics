{
  "metadata": {
    "kernelspec": {
      "name": "python",
      "display_name": "Python (Pyodide)",
      "language": "python"
    },
    "language_info": {
      "codemirror_mode": {
        "name": "python",
        "version": 3
      },
      "file_extension": ".py",
      "mimetype": "text/x-python",
      "name": "python",
      "nbconvert_exporter": "python",
      "pygments_lexer": "ipython3",
      "version": "3.8"
    }
  },
  "nbformat_minor": 5,
  "nbformat": 4,
  "cells": [
    {
      "id": "02c93f40-2462-4008-89ac-402b9c4e637c",
      "cell_type": "markdown",
      "source": "Q1. An e-commerce store stores information about its products in a nested dictionary. The outer dictionary uses product IDs as keys, and the inner dictionary stores product details like name, category, price, and stock quantity. products = { 101: {\"name\": \"Laptop\", \"category\": \"Electronics\", \"price\": 1200, \"stock\": 50}, 102: {\"name\": \"Shirt\", \"category\": \"Apparel\", \"price\": 25, \"stock\": 200}, 103: {\"name\": \"Coffee Maker\", \"category\": \"Home Appliances\", \"price\": 80, \"stock\": 30} }\n\n• Increase the stock of the \"Shirt\" product (add 50 more units) using increment/decrement operators\n\n• Add a new product (e.g., \"Smartphone\")\n\nExpected Output:\n\n{101: {'name': 'Laptop', 'category': 'Electronics', 'price': 1200, 'stock': 50}, 102: {'name': 'Shirt', 'category': 'Apparel', 'price': 25, 'stock': 250}, 103: {'name': 'Coffee Maker', 'category': 'Home Appliances', 'price': 80, 'stock': 30}}\n{101: {'name': 'Laptop', 'category': 'Electronics', 'price': 1200, 'stock': 50}, 102: {'name': 'Shirt', 'category': 'Apparel', 'price': 25, 'stock': 250}, 103: {'name': 'Coffee Maker', 'category': 'Home Appliances', 'price': 80, 'stock': 30}, 104: {'name': 'Smartphone', 'category': 'Electronics', 'price': 800, 'stock': 100}}",
      "metadata": {}
    },
    {
      "id": "de52b557-2fd9-4eaf-a7ce-f13ca53c424f",
      "cell_type": "code",
      "source": "products = { 101: {\"name\": \"Laptop\", \"category\": \"Electronics\", \"price\": 1200, \"stock\": 50}, \n             102: {\"name\": \"Shirt\", \"category\": \"Apparel\", \"price\": 25, \"stock\": 200}, \n             103: {\"name\": \"Coffee Maker\", \"category\": \"Home Appliances\", \"price\": 80, \"stock\": 30} }\n\nproducts[102][\"stock\"] += 50\nproducts[104] = {'name': 'Smartphone', 'category': 'Electronics', 'price': 800, 'stock': 100}\nprint(products)",
      "metadata": {
        "trusted": true
      },
      "outputs": [],
      "execution_count": null
    },
    {
      "id": "df50d084-4013-4e4e-bd26-1e5791596439",
      "cell_type": "code",
      "source": "",
      "metadata": {
        "trusted": true
      },
      "outputs": [],
      "execution_count": null
    },
    {
      "id": "38374151-536f-489a-a18b-c52649f20110",
      "cell_type": "markdown",
      "source": "Q2. You are given a list that contains some duplicate items. Remove the duplicates by converting the list to a set. Final output should be in list\n\nshopping_list = [\"apple\", \"banana\", \"apple\", \"orange\", \"banana\", \"grape\"]\n\nExpected Output:\n['apple', 'grape', 'banana', 'orange']",
      "metadata": {}
    },
    {
      "id": "93fafe75-a9da-45ba-aca1-582fb561fdd6",
      "cell_type": "code",
      "source": "shopping_list = [\"apple\", \"banana\", \"apple\", \"orange\", \"banana\", \"grape\"]\n\nshopping_list = set(shopping_list)\nprint(shopping_list)",
      "metadata": {
        "trusted": true
      },
      "outputs": [],
      "execution_count": null
    },
    {
      "id": "2d3ff673-c834-47b4-af8e-0fc548e6668a",
      "cell_type": "code",
      "source": "",
      "metadata": {
        "trusted": true
      },
      "outputs": [],
      "execution_count": null
    },
    {
      "id": "6024ec14-7264-4e36-bcea-da9e8044e483",
      "cell_type": "markdown",
      "source": "Q3. You are managing a list of students enrolled in two different courses. You need to perform various set operations to understand the student enrollment. Task: Create two sets: one for students in \"Course A\" and one for students in \"Course B\". Find the students who are in \"Course A\" but not in \"Course B\" (difference). Find students who are only in one of the two courses (symmetric difference). course_a = {\"John\", \"Alice\", \"Bob\", \"David\"} course_b = {\"Alice\", \"Eve\", \"Charlie\", \"David\"}\n\nUsing set methods\n\n• Find students who are in Course A but not in Course B (difference)\n\n• Find students who are only in one of the two courses (symmetric difference)\n\nExpected Output:\n\nStudents in Course A but not in Course B: {'Bob', 'John'}\n\nStudents only in one of the two courses: {'Eve', 'John', 'Bob', 'Charlie'}\n",
      "metadata": {}
    },
    {
      "id": "9ac36296-ca91-4415-92b2-fef66b05eac0",
      "cell_type": "code",
      "source": "course_a = {\"John\", \"Alice\", \"Bob\", \"David\"} ; course_b = {\"Alice\", \"Eve\", \"Charlie\", \"David\"}\n\n\nc1 = course_a.symmetric_difference(course_b); print(c1)\nc2 = course_a.difference(course_b)         ; print(c2)",
      "metadata": {
        "trusted": true
      },
      "outputs": [],
      "execution_count": null
    },
    {
      "id": "cf1d7fc9-a78b-4299-a671-a12f90f364b5",
      "cell_type": "code",
      "source": "",
      "metadata": {
        "trusted": true
      },
      "outputs": [],
      "execution_count": null
    },
    {
      "id": "41da432a-3038-4868-803e-fe40f55c9983",
      "cell_type": "markdown",
      "source": "Q4. Write a Python program to store and display the details of a book.\n\nThe program should ask the user to input the following information:\n\nTitle of the book\n\nAuthor’s name\n\nYear of publication\n\nPrice of the booK\n\nStore the entered details in a tuple.\n\nFinally, display the book details in a proper format as shown below:\n\nExpected Output:\n\nTitle: Harry Potter\n\nAuthor: JK Rowlings\n\nYear of Publication: 2000\n\nPrice: $180.0",
      "metadata": {
        "tags": [],
        "editable": true,
        "slideshow": {
          "slide_type": ""
        }
      }
    },
    {
      "id": "84402328-3d42-407e-860a-8056d1f40f9c",
      "cell_type": "code",
      "source": "title = input(\"Title of the book: \"); \nname = input(\"Author’s name: \");\nyear = int(input(\"Year of publication: \")); \nprice = int(input(\"Price of the booK: $\"))\n\nbook = (title, name, year, price)\nprint(book)",
      "metadata": {
        "trusted": true
      },
      "outputs": [
        {
          "output_type": "stream",
          "name": "stdin",
          "text": "Title of the book:  test\nAuthor’s name:  test\nYear of publication:  2000\nPrice of the booK: $ 180\n"
        },
        {
          "name": "stdout",
          "output_type": "stream",
          "text": "('test', 'test', 2000, 180)\n"
        }
      ],
      "execution_count": 2
    },
    {
      "id": "7b7b44b4-ae52-475f-8494-06bd7ef7e769",
      "cell_type": "code",
      "source": "",
      "metadata": {
        "trusted": true
      },
      "outputs": [],
      "execution_count": null
    },
    {
      "id": "48347612-e98e-4b10-b9e7-69dd64a27cd3",
      "cell_type": "markdown",
      "source": "Q5. Write a program to check if a user’s chosen subject is available in the list of offered subjects.\n\nInstructions:\n\nGiven a list of subjects, ask the user to input a subject.\n\nDisplay whether the subject is available or not.\n\nExpected Output:\n\nEnter the subject you are interested in:  art\n\nart is available.",
      "metadata": {}
    },
    {
      "id": "f303fafd-4f4a-4e25-a042-04f6bca335e3",
      "cell_type": "code",
      "source": "off = ['arts', 'maths', 'physics', 'commerce', 'english']\nchk = input(\"Enter the subject you are interested in: \").lower()\n\nif chk in off:\n    print(f\"{chk} is available\")\nelse:\n    print(f\"{chk} is not avilable\")",
      "metadata": {
        "trusted": true
      },
      "outputs": [
        {
          "output_type": "stream",
          "name": "stdin",
          "text": "Enter the subject you are interested in:  maths\n"
        },
        {
          "name": "stdout",
          "output_type": "stream",
          "text": "maths is available\n"
        }
      ],
      "execution_count": 11
    },
    {
      "id": "53244050-8229-4a96-83cc-257342362388",
      "cell_type": "code",
      "source": "",
      "metadata": {
        "trusted": true
      },
      "outputs": [],
      "execution_count": null
    },
    {
      "id": "11ffc986-b30a-4cd9-8416-44c6da950d00",
      "cell_type": "markdown",
      "source": "Q6. Write a Python program that asks the user to enter a number.\n\nIf the number is greater than 0, print \"Positive\".\n\nIf the number is less than 0, print \"Negative\".\n\nIf the number is exactly 0, print \"Zero\".\n\nExpected Output:\n\nEnter a number:  2\n\nThe number is Positive\n\n---\n\nEnter a number:  0\n\nThe number is Zero\n\n---\n\nEnter a number:  -1\n\nThe number is Negative",
      "metadata": {}
    },
    {
      "id": "b48ae2ac-9493-4ae8-8332-91a0f357f6ca",
      "cell_type": "code",
      "source": "no = int(input('Enter your number: '))\nif no > 0:\n    print(\"The number is positive\")\nelif no < 0:\n    print(\"The number is negative\")\nelif no == 0:\n    print(\"The number is zero\")\nelse:\n    print(\"invalid number\")",
      "metadata": {
        "trusted": true
      },
      "outputs": [
        {
          "output_type": "stream",
          "name": "stdin",
          "text": "Enter your number:  0\n"
        },
        {
          "name": "stdout",
          "output_type": "stream",
          "text": "The number is zero\n"
        }
      ],
      "execution_count": 17
    },
    {
      "id": "53642eb0-a78b-4e51-96a4-8b1498e2347b",
      "cell_type": "code",
      "source": "",
      "metadata": {
        "trusted": true
      },
      "outputs": [],
      "execution_count": null
    },
    {
      "id": "2c3a8b52-5013-4999-bdfe-5248b957ad74",
      "cell_type": "markdown",
      "source": "Q7. Write a Python program that simulates a simple login system.\n\nThe correct username is 'admin' and the correct password is 'admin@123'\n\nThe program should take username and password as input from the user.\n\nIt should check the input and display messages according to the following conditions:\n\n- If both username and password are correct → print \"Login Successful\".\n\n- If username is wrong but password is correct → print \"Invalid Username\".\n\n- If username is correct but password is wrong → print \"Invalid Password\".\n\n- If both username and password are wrong → print \"Invalid Username and Password\".",
      "metadata": {}
    },
    {
      "id": "36146973-184e-4d95-804f-7e63d20199de",
      "cell_type": "code",
      "source": "cred = {\"valid_user\": \"admin\", \"valid_pass\": \"admin@123\"}\nusr = input('Enter your Username'); \npassword = input('Enter your password')\n    \nif usr == cred[\"valid_user\"] and password == cred[\"valid_pass\"]:\n    print('Login Successfully')\n\nelif usr != cred[\"valid_user\"] and password == cred[\"valid_pass\"]:\n    print('Invalid username')\n\nelif usr == cred[\"valid_user\"] and password != cred[\"valid_pass\"]:\n    print('Invalid password')\n\nelse:\n    print('Invalid Username and Password')",
      "metadata": {
        "trusted": true
      },
      "outputs": [
        {
          "output_type": "stream",
          "name": "stdin",
          "text": "Enter your Username admin\nEnter your password admin@123\n"
        },
        {
          "name": "stdout",
          "output_type": "stream",
          "text": "Login Successfully\n"
        }
      ],
      "execution_count": 25
    },
    {
      "id": "148a8914-83df-457d-b27b-f94aaf6443ba",
      "cell_type": "code",
      "source": "",
      "metadata": {
        "trusted": true
      },
      "outputs": [],
      "execution_count": null
    },
    {
      "id": "5c799583-5206-449c-b370-4007ec0382f2",
      "cell_type": "markdown",
      "source": "Q8.\n\nstudent_details = {\n    \"Ali\": {\"age\": 20, \"grade\": \"A\", \"city\": \"Karachi\"},\n    \"Sara\": {\"age\": 21, \"grade\": \"B\", \"city\": \"Lahore\"},\n    \"Omar\": {\"age\": 19, \"grade\": \"A\", \"city\": \"Islamabad\"},\n    \"Hina\": {\"age\": 22, \"grade\": \"C\", \"city\": \"Faisalabad\"}\n}\n\n- Add a new student using method:\n  \"Zara\": {\"age\": 20, \"grade\": \"B\", \"city\": \"Multan\"}\n\n- Remove a student \"Omer\" using method\n\nExpected Output:\n\n{'Ali': {'age': 20, 'grade': 'A', 'city': 'Karachi'}, 'Sara': {'age': 21, 'grade': 'B', 'city': 'Lahore'}, 'Hina': {'age': 22, 'grade': 'C', 'city': 'Faisalabad'}, 'Zara': {'age': 20, 'grade': 'B', 'city': 'Multan'}}\n  ",
      "metadata": {}
    },
    {
      "id": "7b95cce5-aca3-4e50-a8a2-86dae6076dcb",
      "cell_type": "code",
      "source": "student_details = { \"Ali\": {\"age\": 20, \"grade\": \"A\", \"city\": \"Karachi\"}, \"Sara\": {\"age\": 21, \"grade\": \"B\", \"city\": \"Lahore\"}, \n                    \"Omar\": {\"age\": 19, \"grade\": \"A\", \"city\": \"Islamabad\"}, \n                    \"Hina\": {\"age\": 22, \"grade\": \"C\", \"city\": \"Faisalabad\"} }\n\nstudent_details[\"Zara\"] = {\"age\": 20, \"grade\": \"B\", \"city\": \"Multan\"}\n\nprint(student_details)",
      "metadata": {
        "trusted": true
      },
      "outputs": [
        {
          "name": "stdout",
          "output_type": "stream",
          "text": "{'Ali': {'age': 20, 'grade': 'A', 'city': 'Karachi'}, 'Sara': {'age': 21, 'grade': 'B', 'city': 'Lahore'}, 'Omar': {'age': 19, 'grade': 'A', 'city': 'Islamabad'}, 'Hina': {'age': 22, 'grade': 'C', 'city': 'Faisalabad'}, 'Zara': {'age': 20, 'grade': 'B', 'city': 'Multan'}}\n"
        }
      ],
      "execution_count": 27
    },
    {
      "id": "2758dbe4-9fa9-4d6c-a7f0-3dab11c3d1b0",
      "cell_type": "code",
      "source": "",
      "metadata": {
        "trusted": true
      },
      "outputs": [],
      "execution_count": null
    },
    {
      "id": "f5c1e4f9-1b24-4c6e-b94d-10e4511df8d8",
      "cell_type": "markdown",
      "source": "Q9. Write program to check a person’s eligibility for a loan based on age, credit score, and income. This time, the eligibility criteria will be:\n\nThe person must be 18 years or older. The person must have a credit score of 650 or higher. The person must have an annual income of at least 30000 dollars If the person has a credit score of 700 or higher, they may still be eligible with an income of 25000 dollars or more.\n\nExpected Output:\n\nEnter your age:  22\n\nEnter your credit score:  888\n\nEnter your annual income: $ 800000\n\nYou are eligible for the loan!\n\n---\n\nEnter your age:  15\n\nEnter your credit score:  800\n\nEnter your annual income: $ 900000\n\nYou are not eligible for the loan due to age.\n\n---\n\nEnter your age:  35\n\nEnter your credit score:  99\n\nEnter your annual income: $ 900000\n\nYou are not eligible for the loan due to low credit score.",
      "metadata": {}
    },
    {
      "id": "5ef52089-e406-470d-9ab3-1fa014d02047",
      "cell_type": "code",
      "source": "age = int(input('Enter your age: '))\ncr = int(input('Enter credit score: '))\nai = int(input('Enter your annual income: $ '))\n\nif age > 17 and ((cr > 649 and ai > 29999) or (cr > 699 and ai > 24999)):\n    print(\"You are eligible for the loan!\")\nelif age < 18:\n    print(\"You are not eligible for the loan due to age.\")\nelif cr < 650:\n    print(\"You are not eligible for the loan due to low credit score.\")\n",
      "metadata": {
        "trusted": true
      },
      "outputs": [
        {
          "output_type": "stream",
          "name": "stdin",
          "text": "Enter your age:  13\nEnter credit score:  50000\nEnter your annual income: $  500000\n"
        },
        {
          "name": "stdout",
          "output_type": "stream",
          "text": "You are not eligible for the loan due to age.\n"
        }
      ],
      "execution_count": 30
    },
    {
      "id": "953cd4f3-8d58-46ea-bfe0-c658bf9694c2",
      "cell_type": "code",
      "source": "",
      "metadata": {
        "trusted": true
      },
      "outputs": [],
      "execution_count": null
    },
    {
      "id": "2b4c034e-a69a-4124-a1ea-497bce36c7a9",
      "cell_type": "markdown",
      "source": "Q10. Write a Python program to check whether the entered letter is a vowel, a consonant, or invalid input.\n\nThe program should take a single character as input. If the character is a vowel (a, e, i, o, u in both upper and lower case), it will print \"Vowel\". If it is an alphabet but not a vowel, it will print \"Consonant\". Otherwise, it will print \"Please enter valid alphabet\".\n\nExpected Output:\n\nEnter a single letter:  a\n\na is a Vowel\n\n---\n\nEnter a single letter:  E\n\nE is a Vowel\n\n---\n\nEnter a single letter:  z\n\nz is a Consonant\n\n---\n\nEnter a single letter:  7\n\nPlease enter valid alphabet\n",
      "metadata": {}
    },
    {
      "id": "17752b4c-7dcf-47c3-809b-d7c34e3ae440",
      "cell_type": "code",
      "source": "vowel = (\"a\", \"e\", \"i\", \"o\", \"u\")\n\nletter = input(\"Enter a single letter:\").lower()\n\nif letter in vowel and len(letter) == 1:\n    print(f\"{letter} is a Vowel\")\nelif letter.isalpha() and letter != vowel and len(letter) ==1 :\n    print(f\"{letter} is a consonant\")\nelse:\n    print(\"Please enter valid or single alphabet\")\n",
      "metadata": {
        "trusted": true
      },
      "outputs": [
        {
          "output_type": "stream",
          "name": "stdin",
          "text": "Enter a single letter: we\n"
        },
        {
          "name": "stdout",
          "output_type": "stream",
          "text": "Please enter valid or single alphabet\n"
        }
      ],
      "execution_count": 38
    },
    {
      "id": "70723610-2b32-4d1d-ad26-9eb432acdf97",
      "cell_type": "code",
      "source": "",
      "metadata": {
        "trusted": true
      },
      "outputs": [],
      "execution_count": null
    }
  ]
}
