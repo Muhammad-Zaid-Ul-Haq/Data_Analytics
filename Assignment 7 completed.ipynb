{
  "metadata": {
    "kernelspec": {
      "name": "python",
      "display_name": "Python (Pyodide)",
      "language": "python"
    },
    "language_info": {
      "codemirror_mode": {
        "name": "python",
        "version": 3
      },
      "file_extension": ".py",
      "mimetype": "text/x-python",
      "name": "python",
      "nbconvert_exporter": "python",
      "pygments_lexer": "ipython3",
      "version": "3.8"
    }
  },
  "nbformat_minor": 5,
  "nbformat": 4,
  "cells": [
    {
      "id": "7b6d1b28-f2fa-48c8-85e8-fff91033073b",
      "cell_type": "raw",
      "source": "Question 1:\n\nWrite a Python program that prints numbers from 1 to 20, but skips all even numbers.\n\nUse a while loop.\n\nUse the continue statement\n\nThe numbers should be printed on the same line separated by spaces.\n\nExpected Output:\n\n1 3 5 7 9 11 13 15 17 19",
      "metadata": {}
    },
    {
      "id": "4a1b2982-9fdd-49f9-bcd7-b00e852a9f51",
      "cell_type": "code",
      "source": "i = 1\nwhile i < 21:\n    if i % 2 == 0:\n        i += 1\n        continue\n    print(i)\n    i += 1",
      "metadata": {
        "trusted": true
      },
      "outputs": [],
      "execution_count": null
    },
    {
      "id": "b431d0dc-6c6b-4dca-9fc5-f3bba2af76af",
      "cell_type": "markdown",
      "source": "Question 2:\n\nWrite a Python program that keeps asking the user to enter numbers and prints them.\n\nThe program should stop the loop if the user enters a negative number.\n\nUse a while True loop with a break statement\n\nExpected Output:\n\nEnter a number (negative to stop): 5\n\nYou entered: 5\n\nEnter a number (negative to stop): 10\n\nYou entered: 10\n\nEnter a number (negative to stop): -3\n\nNegative number entered. Loop stopped!\n",
      "metadata": {}
    },
    {
      "id": "f2781abc-7be9-4534-bafa-7161ceae049b",
      "cell_type": "code",
      "source": "# while True:\n\nwhile True:\n    number = input(\"Enter a number (negative to stop)\")\n    \n    if (number.isalpha() or number.isalnum()) and not number.isdigit():\n        print(\"Invalid Numbers\")\n            \n    else:\n        number = int(number)\n        if number >= 0:\n            print(f\"You entered: {number}\")\n        elif number < 0:\n            print(\"Negative number entered. Loop stopped!\")\n            break",
      "metadata": {
        "trusted": true
      },
      "outputs": [
        {
          "output_type": "stream",
          "name": "stdin",
          "text": "Enter a number (negative to stop) k2\n"
        },
        {
          "name": "stdout",
          "output_type": "stream",
          "text": "Invalid Numbers\n"
        },
        {
          "output_type": "stream",
          "name": "stdin",
          "text": "Enter a number (negative to stop) kk\n"
        },
        {
          "name": "stdout",
          "output_type": "stream",
          "text": "Invalid Numbers\n"
        },
        {
          "output_type": "stream",
          "name": "stdin",
          "text": "Enter a number (negative to stop) 2k\n"
        },
        {
          "name": "stdout",
          "output_type": "stream",
          "text": "Invalid Numbers\n"
        },
        {
          "output_type": "stream",
          "name": "stdin",
          "text": "Enter a number (negative to stop) 5\n"
        },
        {
          "name": "stdout",
          "output_type": "stream",
          "text": "You entered: 5\n"
        },
        {
          "output_type": "stream",
          "name": "stdin",
          "text": "Enter a number (negative to stop) -5\n"
        },
        {
          "name": "stdout",
          "output_type": "stream",
          "text": "Negative number entered. Loop stopped!\n"
        }
      ],
      "execution_count": 1
    },
    {
      "id": "624386c7-f206-4e3a-a18c-46bb7e61c71e",
      "cell_type": "raw",
      "source": "Question 3:\n\n\nWrite a Python program that asks the user to guess a secret word.\n\nKeep asking until the user enters the correct word (\"python\").\n\nWhen guessed correctly, print \"🎉 You guessed it!\"\n\nExpected Output:\n\nGuess the word: java\n\nGuess the word: ruby\n\nGuess the word: python\n\n🎉 You guessed it!",
      "metadata": {}
    },
    {
      "id": "f7d686b1-3215-4342-815b-ef909162e7c5",
      "cell_type": "code",
      "source": "while True:\n    word = input(\"Guess the word:\").lower()    \n    if word == \"python\":\n        print(\"You guessed it!\")\n        break\n",
      "metadata": {
        "trusted": true
      },
      "outputs": [
        {
          "output_type": "stream",
          "name": "stdin",
          "text": "Guess the word: test\nGuess the word: tester\nGuess the word: python\n"
        },
        {
          "name": "stdout",
          "output_type": "stream",
          "text": "You guessed it!\n"
        }
      ],
      "execution_count": 7
    },
    {
      "id": "ea22d55c-4267-4244-bda3-e93d8988216f",
      "cell_type": "markdown",
      "source": "Question 4:\n\norders = [\n    {\"order_id\": 1, \"customer\": \"Ali\", \"items\": [120, 80, 50]},\n    {\"order_id\": 2, \"customer\": \"Sara\", \"items\": [200, 150]},\n    {\"order_id\": 3, \"customer\": \"Raheel\", \"items\": [90, 60, 40, 30]},\n    {\"order_id\": 4, \"customer\": \"Naveed\", \"items\": [300]},\n]\n\nYou are given a list of e-commerce orders. Each order has:\n\nan order ID\n\na customer name\n\na list of items with prices\n\nWrite a Python program to print all items for each order using nested while loops.\n\nExpected Output:\n\nOrder ID: 1 Customer: Ali\n\n Item Price: 120\n \n Item Price: 80\n \n Item Price: 50\n\nOrder ID: 2 Customer: Sara\n\n Item Price: 200\n \n Item Price: 150\n\nOrder ID: 3 Customer: Raheel\n\n Item Price: 90\n \n Item Price: 60\n \n Item Price: 40\n \n Item Price: 30\n\nOrder ID: 4 Customer: Naveed\n\n Item Price: 300",
      "metadata": {}
    },
    {
      "id": "2210ac74-5a1c-4f29-9cdd-2a40871e9235",
      "cell_type": "code",
      "source": "orders = [ {\"order_id\": 1, \"customer\": \"Ali\", \"items\": [120, 80, 50]}, \n           {\"order_id\": 2, \"customer\": \"Sara\", \"items\": [200, 150]}, \n           {\"order_id\": 3, \"customer\": \"Raheel\", \"items\": [90, 60, 40, 30]}, \n           {\"order_id\": 4, \"customer\": \"Naveed\", \"items\": [300]} ]\n\nfor order in orders:\n    print(f\"Order ID: {order[\"order_id\"]} Customer: {order[\"customer\"]}\")\n    for item in order[\"items\"]:\n        print(f\"Item Price: {item}\")\n    print(\"\")",
      "metadata": {
        "trusted": true
      },
      "outputs": [
        {
          "name": "stdout",
          "output_type": "stream",
          "text": "Order ID: 1 Customer: Ali\nItem Price: 120\nItem Price: 80\nItem Price: 50\n\nOrder ID: 2 Customer: Sara\nItem Price: 200\nItem Price: 150\n\nOrder ID: 3 Customer: Raheel\nItem Price: 90\nItem Price: 60\nItem Price: 40\nItem Price: 30\n\nOrder ID: 4 Customer: Naveed\nItem Price: 300\n\n"
        }
      ],
      "execution_count": 9
    },
    {
      "id": "f7c2bbae-9a3d-454a-9ae7-bf81a77f66a1",
      "cell_type": "markdown",
      "source": "Question 5:\n\nPrint total amount spent by each customer (Using nested while loop)\n\norders = [\n    {\"order_id\": 1, \"customer\": \"Ali\", \"items\": [120, 80, 50]},\n    {\"order_id\": 2, \"customer\": \"Sara\", \"items\": [200, 150]},\n    {\"order_id\": 3, \"customer\": \"Raheel\", \"items\": [90, 60, 40, 30]},\n    {\"order_id\": 4, \"customer\": \"Naveed\", \"items\": [300]},\n]\n\nExpected Output:\n\nAli spent total: 250\n\nSara spent total: 350\n\nRaheel spent total: 220\n\nNaveed spent total: 300",
      "metadata": {}
    },
    {
      "id": "acee9570-ce87-4994-b280-d6d393768042",
      "cell_type": "code",
      "source": "orders = [ {\"order_id\": 1, \"customer\": \"Ali\", \"items\": [120, 80, 50]}, \n           {\"order_id\": 2, \"customer\": \"Sara\", \"items\": [200, 150]}, \n           {\"order_id\": 3, \"customer\": \"Raheel\", \"items\": [90, 60, 40, 30]}, \n           {\"order_id\": 4, \"customer\": \"Naveed\", \"items\": [300]} ]\nitem = 0\nfor order in orders:\n    # print(f\"Customer: {order[\"customer\"]}\")\n    for items in order[\"items\"]:\n        item += items\n    print(f\"{order[\"customer\"]} spent total: {item} \\n\")\n    item = 0\n    ",
      "metadata": {
        "trusted": true
      },
      "outputs": [
        {
          "name": "stdout",
          "output_type": "stream",
          "text": "Ali spent total: 250 \n\nSara spent total: 350 \n\nRaheel spent total: 220 \n\nNaveed spent total: 300 \n\n"
        }
      ],
      "execution_count": 21
    },
    {
      "id": "9df85479-cd55-4385-90aa-19b0ecc04bcc",
      "cell_type": "markdown",
      "source": "Question 6:\n\nPrint the maximum item price for each order. (Using nested while loop)\n\norders = [ {\"order_id\": 1, \"customer\": \"Ali\", \"items\": [120, 80, 50]}, {\"order_id\": 2, \"customer\": \"Sara\", \"items\": [200, 150]}, {\"order_id\": 3, \"customer\": \"Raheel\", \"items\": [90, 60, 40, 30]}, {\"order_id\": 4, \"customer\": \"Naveed\", \"items\": [300]}, ]\n\nExpected Output:\n\nMost expensive item in Order 1 = 120\n\nMost expensive item in Order 2 = 200\n\nMost expensive item in Order 3 = 90\n\nMost expensive item in Order 4 = 300",
      "metadata": {}
    },
    {
      "id": "c90e0485-6b06-413b-8e18-cb75b20ec44e",
      "cell_type": "code",
      "source": "orders = [ {\"order_id\": 1, \"customer\": \"Ali\",    \"items\": [120, 80, 50]}, \n           {\"order_id\": 2, \"customer\": \"Sara\",   \"items\": [200, 150]}, \n           {\"order_id\": 3, \"customer\": \"Raheel\", \"items\": [90, 60, 40, 30]}, \n           {\"order_id\": 4, \"customer\": \"Naveed\", \"items\": [300]} ]\n\nfor order in orders:\n    order[\"items\"].sort()   \n    print(f\"Most expensive item in Order {order[\"order_id\"]} = {order[\"items\"][-1]} \\n\")\n",
      "metadata": {
        "trusted": true
      },
      "outputs": [
        {
          "name": "stdout",
          "output_type": "stream",
          "text": "Most expensive item in Order 1 = 120 \n\nMost expensive item in Order 2 = 200 \n\nMost expensive item in Order 3 = 90 \n\nMost expensive item in Order 4 = 300 \n\n"
        }
      ],
      "execution_count": 38
    },
    {
      "id": "937da036-8d3c-4ea7-a673-09b22d804e90",
      "cell_type": "markdown",
      "source": "Question 7:\n\nWrite a Python program to create a single list (list comprehension) that contains all numbers from 1 to 50 which are multiples of 5 and 10.\n\nExpected Output:\n\nMultiples of 5 and 10 from 1 to 50: [10, 20, 30, 40, 50]\n",
      "metadata": {}
    },
    {
      "id": "2b945814-d51a-4339-ac79-ae48170e2538",
      "cell_type": "code",
      "source": "Multiples = [ number for number in range(10, 51, 10) ]\nprint(f\"Multiples of 5 and 10 from 1 to 50: {Multiples}\")",
      "metadata": {
        "trusted": true
      },
      "outputs": [
        {
          "name": "stdout",
          "output_type": "stream",
          "text": "Multiples of 5 and 10 from 1 to 50: [10, 20, 30, 40, 50]\n"
        }
      ],
      "execution_count": 47
    },
    {
      "id": "30e197b2-1fde-4ea1-81dd-078ea3c45379",
      "cell_type": "markdown",
      "source": "Question 8:\n\nemployees = [\n    {\"emp_id\": 1, \"name\": \"Ali\", \"dept\": \"Sales\", \"salary\": 50000, \"experience\": 2},\n    {\"emp_id\": 2, \"name\": \"Sara\", \"dept\": \"IT\", \"salary\": 65000, \"experience\": 5},\n    {\"emp_id\": 3, \"name\": \"Raheel\", \"dept\": \"HR\", \"salary\": 45000, \"experience\": 1},\n    {\"emp_id\": 4, \"name\": \"Naveed\", \"dept\": \"Finance\", \"salary\": 70000, \"experience\": 7},\n    {\"emp_id\": 5, \"name\": \"Ayesha\", \"dept\": \"IT\", \"salary\": 72000, \"experience\": 6},\n    {\"emp_id\": 6, \"name\": \"Talha\", \"dept\": \"Sales\", \"salary\": 55000, \"experience\": 3},\n    {\"emp_id\": 7, \"name\": \"Sana\", \"dept\": \"Finance\", \"salary\": 80000, \"experience\": 8},\n    {\"emp_id\": 8, \"name\": \"Hina\", \"dept\": \"HR\", \"salary\": 48000, \"experience\": 2},\n]\n\nUsing List Comprehension\n\nEmployees with salary > 60,000 AND experience > 5 years\n\nExpected Output:\n['Naveed', 'Ayesha', 'Sana']\n",
      "metadata": {}
    },
    {
      "id": "c1354082-8cb3-459f-b875-65ec52f20e8d",
      "cell_type": "code",
      "source": "employees = [ {\"emp_id\": 1, \"name\": \"Ali\", \"dept\": \"Sales\", \"salary\": 50000, \"experience\": 2}, \n              {\"emp_id\": 2, \"name\": \"Sara\", \"dept\": \"IT\", \"salary\": 65000, \"experience\": 5}, \n              {\"emp_id\": 3, \"name\": \"Raheel\", \"dept\": \"HR\", \"salary\": 45000, \"experience\": 1}, \n              {\"emp_id\": 4, \"name\": \"Naveed\", \"dept\": \"Finance\", \"salary\": 70000, \"experience\": 7}, \n              {\"emp_id\": 5, \"name\": \"Ayesha\", \"dept\": \"IT\", \"salary\": 72000, \"experience\": 6}, \n              {\"emp_id\": 6, \"name\": \"Talha\", \"dept\": \"Sales\", \"salary\": 55000, \"experience\": 3}, \n              {\"emp_id\": 7, \"name\": \"Sana\", \"dept\": \"Finance\", \"salary\": 80000, \"experience\": 8}, \n              {\"emp_id\": 8, \"name\": \"Hina\", \"dept\": \"HR\", \"salary\": 48000, \"experience\": 2} ]\n\nEmployee_list = [ employee[\"name\"] for employee in employees if employee[\"salary\"] > 60000 and employee[\"experience\"] > 5 ]\nprint(f\"Expected Output: {Employee_list}\")\n",
      "metadata": {
        "trusted": true
      },
      "outputs": [
        {
          "name": "stdout",
          "output_type": "stream",
          "text": "Expected Output: ['Naveed', 'Ayesha', 'Sana']\n"
        }
      ],
      "execution_count": 49
    },
    {
      "id": "272760fb-2e38-40c4-a02a-9ef737ef1480",
      "cell_type": "markdown",
      "source": "Question 9:\n\nEmployees with NOT HR department\n\nExpected Output:\n['Ali', 'Sara', 'Naveed', 'Ayesha', 'Talha', 'Sana']\n",
      "metadata": {}
    },
    {
      "id": "96292831-ae2d-48a8-8958-1ae67490d8a8",
      "cell_type": "code",
      "source": "employees = [ {\"emp_id\": 1, \"name\": \"Ali\", \"dept\": \"Sales\", \"salary\": 50000, \"experience\": 2}, \n              {\"emp_id\": 2, \"name\": \"Sara\", \"dept\": \"IT\", \"salary\": 65000, \"experience\": 5}, \n              {\"emp_id\": 3, \"name\": \"Raheel\", \"dept\": \"HR\", \"salary\": 45000, \"experience\": 1}, \n              {\"emp_id\": 4, \"name\": \"Naveed\", \"dept\": \"Finance\", \"salary\": 70000, \"experience\": 7}, \n              {\"emp_id\": 5, \"name\": \"Ayesha\", \"dept\": \"IT\", \"salary\": 72000, \"experience\": 6}, \n              {\"emp_id\": 6, \"name\": \"Talha\", \"dept\": \"Sales\", \"salary\": 55000, \"experience\": 3}, \n              {\"emp_id\": 7, \"name\": \"Sana\", \"dept\": \"Finance\", \"salary\": 80000, \"experience\": 8}, \n              {\"emp_id\": 8, \"name\": \"Hina\", \"dept\": \"HR\", \"salary\": 48000, \"experience\": 2} ]\n\nEmp_list = [ employee[\"name\"] for employee in employees if employee[\"dept\"] != \"HR\" ]\nprint(f\"Expected Output: {Emp_list}\")\n\n",
      "metadata": {
        "trusted": true
      },
      "outputs": [
        {
          "name": "stdout",
          "output_type": "stream",
          "text": "Expected Output: ['Ali', 'Sara', 'Naveed', 'Ayesha', 'Talha', 'Sana']\n"
        }
      ],
      "execution_count": 50
    },
    {
      "id": "2edcf529-d79d-4f32-a576-f2cc918a9a47",
      "cell_type": "markdown",
      "source": "Question 10:\n\nEmployees NOT in Sales OR experience > 5\n\nExpected Output:\n['Sara', 'Raheel', 'Naveed', 'Ayesha', 'Sana', 'Hina']\n",
      "metadata": {}
    },
    {
      "id": "4856cf4c-2141-4698-bb59-0b748b0b7034",
      "cell_type": "code",
      "source": "employees = [ {\"emp_id\": 1, \"name\": \"Ali\", \"dept\": \"Sales\", \"salary\": 50000, \"experience\": 2}, \n              {\"emp_id\": 2, \"name\": \"Sara\", \"dept\": \"IT\", \"salary\": 65000, \"experience\": 5}, \n              {\"emp_id\": 3, \"name\": \"Raheel\", \"dept\": \"HR\", \"salary\": 45000, \"experience\": 1}, \n              {\"emp_id\": 4, \"name\": \"Naveed\", \"dept\": \"Finance\", \"salary\": 70000, \"experience\": 7}, \n              {\"emp_id\": 5, \"name\": \"Ayesha\", \"dept\": \"IT\", \"salary\": 72000, \"experience\": 6}, \n              {\"emp_id\": 6, \"name\": \"Talha\", \"dept\": \"Sales\", \"salary\": 55000, \"experience\": 3}, \n              {\"emp_id\": 7, \"name\": \"Sana\", \"dept\": \"Finance\", \"salary\": 80000, \"experience\": 8}, \n              {\"emp_id\": 8, \"name\": \"Hina\", \"dept\": \"HR\", \"salary\": 48000, \"experience\": 2} ]\n\nEmployee_list = [ employee[\"name\"] for employee in employees if employee[\"dept\"] != \"Sales\" or employee[\"experience\"] > 5 ]\nprint(f\"Expected Output: {Employee_list}\")\n",
      "metadata": {
        "trusted": true
      },
      "outputs": [
        {
          "name": "stdout",
          "output_type": "stream",
          "text": "Expected Output: ['Sara', 'Raheel', 'Naveed', 'Ayesha', 'Sana', 'Hina']\n"
        }
      ],
      "execution_count": 51
    },
    {
      "id": "562c6723-2c2a-493f-837f-4fb15529f481",
      "cell_type": "code",
      "source": "dir(\"\")",
      "metadata": {
        "trusted": true
      },
      "outputs": [],
      "execution_count": null
    }
  ]
}